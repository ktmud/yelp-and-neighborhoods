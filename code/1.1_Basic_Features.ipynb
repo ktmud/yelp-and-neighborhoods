{
 "cells": [
  {
   "cell_type": "markdown",
   "metadata": {},
   "source": [
    "# Step 1.1: Extracting Basic Features\n",
    "\n"
   ]
  },
  {
   "cell_type": "markdown",
   "metadata": {},
   "source": [
    "Previously we have cleaned the data and exported a few clean datasets (in the **data/step1** folder).\n",
    "\n",
    "- **biz.csv**: Businesses of 8 selected states, with neighborhood information derived from Zillow neighborhoods, and census tract information derived from geographical boundaries of census tracts. Some businesses may not be associated with any neighborhood name.\n",
    "- **neighborhoods/neighborhoods.shp**: Shape file of all Zillow neighborhoods in the 8 states that have at least one business.\n",
    "- **census-tracts/census-tracts.shp**: Shape file of all census tracts in the 8 states that have at least one business.\n",
    "\n",
    "In this notebook, we aggregate a few neighborhood/census tract level measurements based on the Yelp data. Then we will apply clustering algorithms to these measurements later, to separate neighborhoods based on their business dynamics."
   ]
  },
  {
   "cell_type": "code",
   "execution_count": 90,
   "metadata": {
    "collapsed": true
   },
   "outputs": [],
   "source": [
    "import numpy as np\n",
    "import pandas as pd\n",
    "import matplotlib.pyplot as plt\n",
    "import seaborn as sns\n",
    "\n",
    "from pandas.io.json import json_normalize\n",
    "\n",
    "sns.set(\n",
    "    style=\"white\",\n",
    "    color_codes=True,\n",
    "    rc={\n",
    "        'axes.linewidth': 0.5,\n",
    "        'lines.linewidth': 2,\n",
    "        'axes.labelsize': 14,\n",
    "        'axes.titlesize': 14\n",
    "    }\n",
    ")\n",
    "\n",
    "pd.set_option('display.max_rows', 4)\n",
    "\n",
    "%matplotlib inline\n",
    "%config InlineBackend.figure_format = 'retina'"
   ]
  },
  {
   "cell_type": "markdown",
   "metadata": {},
   "source": [
    "## Basic features"
   ]
  },
  {
   "cell_type": "code",
   "execution_count": 77,
   "metadata": {
    "collapsed": true
   },
   "outputs": [],
   "source": [
    "# Load data\n",
    "biz = pd.read_csv('../data/step1/biz.csv', dtype={\n",
    "    'postal_code': str,\n",
    "    'CT_ID': str\n",
    "})"
   ]
  },
  {
   "cell_type": "code",
   "execution_count": 78,
   "metadata": {},
   "outputs": [
    {
     "data": {
      "text/html": [
       "<div>\n",
       "<style>\n",
       "    .dataframe thead tr:only-child th {\n",
       "        text-align: right;\n",
       "    }\n",
       "\n",
       "    .dataframe thead th {\n",
       "        text-align: left;\n",
       "    }\n",
       "\n",
       "    .dataframe tbody tr th {\n",
       "        vertical-align: top;\n",
       "    }\n",
       "</style>\n",
       "<table border=\"1\" class=\"dataframe\">\n",
       "  <thead>\n",
       "    <tr style=\"text-align: right;\">\n",
       "      <th></th>\n",
       "      <th>address</th>\n",
       "      <th>business_id</th>\n",
       "      <th>city</th>\n",
       "      <th>hours</th>\n",
       "      <th>is_open</th>\n",
       "      <th>name</th>\n",
       "      <th>neighborhood</th>\n",
       "      <th>postal_code</th>\n",
       "      <th>review_count</th>\n",
       "      <th>stars</th>\n",
       "      <th>...</th>\n",
       "      <th>CT_LAND</th>\n",
       "      <th>CT_WATER</th>\n",
       "      <th>CT_BIZ_COUNT</th>\n",
       "      <th>State</th>\n",
       "      <th>County</th>\n",
       "      <th>City</th>\n",
       "      <th>Name</th>\n",
       "      <th>Nhood</th>\n",
       "      <th>Nhood_area</th>\n",
       "      <th>Nhood_biz_count</th>\n",
       "    </tr>\n",
       "  </thead>\n",
       "  <tbody>\n",
       "    <tr>\n",
       "      <th>0</th>\n",
       "      <td>691 Richmond Rd</td>\n",
       "      <td>YDf95gJZaq05wvo7hTQbbQ</td>\n",
       "      <td>Richmond Heights</td>\n",
       "      <td>{'Monday': '10:00-21:00', 'Tuesday': '10:00-21...</td>\n",
       "      <td>1</td>\n",
       "      <td>Richmond Town Square</td>\n",
       "      <td>NaN</td>\n",
       "      <td>44143</td>\n",
       "      <td>17</td>\n",
       "      <td>2.0</td>\n",
       "      <td>...</td>\n",
       "      <td>4183953.0</td>\n",
       "      <td>0.0</td>\n",
       "      <td>29.0</td>\n",
       "      <td>NaN</td>\n",
       "      <td>NaN</td>\n",
       "      <td>NaN</td>\n",
       "      <td>NaN</td>\n",
       "      <td>NaN</td>\n",
       "      <td>NaN</td>\n",
       "      <td>NaN</td>\n",
       "    </tr>\n",
       "    <tr>\n",
       "      <th>...</th>\n",
       "      <td>...</td>\n",
       "      <td>...</td>\n",
       "      <td>...</td>\n",
       "      <td>...</td>\n",
       "      <td>...</td>\n",
       "      <td>...</td>\n",
       "      <td>...</td>\n",
       "      <td>...</td>\n",
       "      <td>...</td>\n",
       "      <td>...</td>\n",
       "      <td>...</td>\n",
       "      <td>...</td>\n",
       "      <td>...</td>\n",
       "      <td>...</td>\n",
       "      <td>...</td>\n",
       "      <td>...</td>\n",
       "      <td>...</td>\n",
       "      <td>...</td>\n",
       "      <td>...</td>\n",
       "      <td>...</td>\n",
       "      <td>...</td>\n",
       "    </tr>\n",
       "    <tr>\n",
       "      <th>115521</th>\n",
       "      <td>540 Marks St</td>\n",
       "      <td>scMIE4jyGp7FkWrMKAgjxA</td>\n",
       "      <td>Henderson</td>\n",
       "      <td>{}</td>\n",
       "      <td>0</td>\n",
       "      <td>Walmart</td>\n",
       "      <td>NaN</td>\n",
       "      <td>89014</td>\n",
       "      <td>42</td>\n",
       "      <td>2.5</td>\n",
       "      <td>...</td>\n",
       "      <td>18327522.0</td>\n",
       "      <td>0.0</td>\n",
       "      <td>792.0</td>\n",
       "      <td>NV</td>\n",
       "      <td>Clark</td>\n",
       "      <td>Henderson</td>\n",
       "      <td>Whitney Ranch</td>\n",
       "      <td>Whitney Ranch, Henderson, NV</td>\n",
       "      <td>7.521403e+06</td>\n",
       "      <td>577.0</td>\n",
       "    </tr>\n",
       "  </tbody>\n",
       "</table>\n",
       "<p>115522 rows × 47 columns</p>\n",
       "</div>"
      ],
      "text/plain": [
       "                address             business_id              city  \\\n",
       "0       691 Richmond Rd  YDf95gJZaq05wvo7hTQbbQ  Richmond Heights   \n",
       "...                 ...                     ...               ...   \n",
       "115521     540 Marks St  scMIE4jyGp7FkWrMKAgjxA         Henderson   \n",
       "\n",
       "                                                    hours  is_open  \\\n",
       "0       {'Monday': '10:00-21:00', 'Tuesday': '10:00-21...        1   \n",
       "...                                                   ...      ...   \n",
       "115521                                                 {}        0   \n",
       "\n",
       "                        name neighborhood postal_code  review_count  stars  \\\n",
       "0       Richmond Town Square          NaN       44143            17    2.0   \n",
       "...                      ...          ...         ...           ...    ...   \n",
       "115521               Walmart          NaN       89014            42    2.5   \n",
       "\n",
       "             ...           CT_LAND CT_WATER CT_BIZ_COUNT State County  \\\n",
       "0            ...         4183953.0      0.0         29.0   NaN    NaN   \n",
       "...          ...               ...      ...          ...   ...    ...   \n",
       "115521       ...        18327522.0      0.0        792.0    NV  Clark   \n",
       "\n",
       "             City           Name                         Nhood    Nhood_area  \\\n",
       "0             NaN            NaN                           NaN           NaN   \n",
       "...           ...            ...                           ...           ...   \n",
       "115521  Henderson  Whitney Ranch  Whitney Ranch, Henderson, NV  7.521403e+06   \n",
       "\n",
       "       Nhood_biz_count  \n",
       "0                  NaN  \n",
       "...                ...  \n",
       "115521           577.0  \n",
       "\n",
       "[115522 rows x 47 columns]"
      ]
     },
     "metadata": {},
     "output_type": "display_data"
    }
   ],
   "source": [
    "display(biz)"
   ]
  },
  {
   "cell_type": "code",
   "execution_count": 79,
   "metadata": {},
   "outputs": [
    {
     "data": {
      "text/plain": [
       "Index(['address', 'business_id', 'city', 'hours', 'is_open', 'name',\n",
       "       'neighborhood', 'postal_code', 'review_count', 'stars', 'state',\n",
       "       'Active Life', 'Arts & Entertainment', 'Automotive', 'Beauty & Spas',\n",
       "       'Event Planning & Services', 'Food', 'Health & Medical',\n",
       "       'Home Services', 'Hotels & Travel', 'Local Services', 'Nightlife',\n",
       "       'Restaurants', 'Shopping', 'BusinessAcceptsCreditCards',\n",
       "       'RestaurantsPriceRange2', 'BikeParking', 'GoodForKids',\n",
       "       'RestaurantsTakeOut', 'OutdoorSeating', 'RestaurantsGoodForGroups',\n",
       "       'RestaurantsAttire', 'GoodForMeal', 'Ambience', 'Alcohol', 'geometry',\n",
       "       'CT_ID', 'CT_LAND', 'CT_WATER', 'CT_BIZ_COUNT', 'State', 'County',\n",
       "       'City', 'Name', 'Nhood', 'Nhood_area', 'Nhood_biz_count'],\n",
       "      dtype='object')"
      ]
     },
     "metadata": {},
     "output_type": "display_data"
    }
   ],
   "source": [
    "display(biz.columns)"
   ]
  },
  {
   "cell_type": "code",
   "execution_count": 81,
   "metadata": {},
   "outputs": [
    {
     "data": {
      "text/plain": [
       "0         44143\n",
       "          ...  \n",
       "115521    89014\n",
       "Name: postal_code, Length: 115522, dtype: object"
      ]
     },
     "metadata": {},
     "output_type": "display_data"
    }
   ],
   "source": [
    "display(biz.postal_code)"
   ]
  },
  {
   "cell_type": "markdown",
   "metadata": {},
   "source": [
    "### Alcohol\n",
    "\n",
    "Possible values for `Alcohol`"
   ]
  },
  {
   "cell_type": "code",
   "execution_count": 82,
   "metadata": {},
   "outputs": [
    {
     "data": {
      "text/plain": [
       "array([nan, 'none', 'full_bar', 'beer_and_wine'], dtype=object)"
      ]
     },
     "execution_count": 82,
     "metadata": {},
     "output_type": "execute_result"
    }
   ],
   "source": [
    "biz.Alcohol.unique()"
   ]
  },
  {
   "cell_type": "code",
   "execution_count": 83,
   "metadata": {},
   "outputs": [
    {
     "data": {
      "text/plain": [
       "array([nan, 'full_bar', 'beer_and_wine'], dtype=object)"
      ]
     },
     "execution_count": 83,
     "metadata": {},
     "output_type": "execute_result"
    }
   ],
   "source": [
    "biz.loc[biz['Alcohol'] == 'none', 'Alcohol'] = np.nan\n",
    "biz.Alcohol.unique()"
   ]
  },
  {
   "cell_type": "markdown",
   "metadata": {},
   "source": [
    "### Price range"
   ]
  },
  {
   "cell_type": "code",
   "execution_count": 84,
   "metadata": {},
   "outputs": [
    {
     "data": {
      "text/plain": [
       "array([  2.,   2.,  nan,   1.,   2.,  nan,  nan,   2.,  nan,  nan])"
      ]
     },
     "execution_count": 84,
     "metadata": {},
     "output_type": "execute_result"
    }
   ],
   "source": [
    "biz.RestaurantsPriceRange2.values[:10]"
   ]
  },
  {
   "cell_type": "markdown",
   "metadata": {},
   "source": [
    "## Build the feature matrix\n",
    "\n",
    "After examing the extreme/unique values of the features, now aggregate the measurementns to neighborhoods and census tracts."
   ]
  },
  {
   "cell_type": "code",
   "execution_count": 95,
   "metadata": {},
   "outputs": [
    {
     "data": {
      "text/html": [
       "<div>\n",
       "<style>\n",
       "    .dataframe thead tr:only-child th {\n",
       "        text-align: right;\n",
       "    }\n",
       "\n",
       "    .dataframe thead th {\n",
       "        text-align: left;\n",
       "    }\n",
       "\n",
       "    .dataframe tbody tr th {\n",
       "        vertical-align: top;\n",
       "    }\n",
       "</style>\n",
       "<table border=\"1\" class=\"dataframe\">\n",
       "  <thead>\n",
       "    <tr style=\"text-align: right;\">\n",
       "      <th></th>\n",
       "      <th>Nhood</th>\n",
       "      <th>business_id_count</th>\n",
       "      <th>is_open_mean</th>\n",
       "      <th>Nhood_area_first</th>\n",
       "      <th>review_count_mean</th>\n",
       "      <th>stars_mean</th>\n",
       "      <th>RestaurantsPriceRange2_mean</th>\n",
       "      <th>Alcohol_ratio</th>\n",
       "      <th>biz_density_</th>\n",
       "    </tr>\n",
       "  </thead>\n",
       "  <tbody>\n",
       "    <tr>\n",
       "      <th>0</th>\n",
       "      <td>Paradise, Las Vegas, NV</td>\n",
       "      <td>5454</td>\n",
       "      <td>0.819215</td>\n",
       "      <td>1.132623e+08</td>\n",
       "      <td>50.751008</td>\n",
       "      <td>3.674276</td>\n",
       "      <td>1.734807</td>\n",
       "      <td>0.126146</td>\n",
       "      <td>481.536897</td>\n",
       "    </tr>\n",
       "    <tr>\n",
       "      <th>1</th>\n",
       "      <td>Spring Valley, Las Vegas, NV</td>\n",
       "      <td>4030</td>\n",
       "      <td>0.822333</td>\n",
       "      <td>9.008128e+07</td>\n",
       "      <td>48.276923</td>\n",
       "      <td>3.855707</td>\n",
       "      <td>1.705340</td>\n",
       "      <td>0.098015</td>\n",
       "      <td>447.373756</td>\n",
       "    </tr>\n",
       "    <tr>\n",
       "      <th>...</th>\n",
       "      <td>...</td>\n",
       "      <td>...</td>\n",
       "      <td>...</td>\n",
       "      <td>...</td>\n",
       "      <td>...</td>\n",
       "      <td>...</td>\n",
       "      <td>...</td>\n",
       "      <td>...</td>\n",
       "      <td>...</td>\n",
       "    </tr>\n",
       "    <tr>\n",
       "      <th>440</th>\n",
       "      <td>Arrow Head Acres, North Las Vegas, NV</td>\n",
       "      <td>10</td>\n",
       "      <td>1.000000</td>\n",
       "      <td>8.902987e+05</td>\n",
       "      <td>10.600000</td>\n",
       "      <td>3.650000</td>\n",
       "      <td>1.500000</td>\n",
       "      <td>0.000000</td>\n",
       "      <td>112.321848</td>\n",
       "    </tr>\n",
       "    <tr>\n",
       "      <th>441</th>\n",
       "      <td>McClellan Park, Madison, WI</td>\n",
       "      <td>10</td>\n",
       "      <td>0.800000</td>\n",
       "      <td>2.381347e+06</td>\n",
       "      <td>18.200000</td>\n",
       "      <td>3.700000</td>\n",
       "      <td>1.857143</td>\n",
       "      <td>0.300000</td>\n",
       "      <td>41.993045</td>\n",
       "    </tr>\n",
       "  </tbody>\n",
       "</table>\n",
       "<p>442 rows × 9 columns</p>\n",
       "</div>"
      ],
      "text/plain": [
       "                                     Nhood  business_id_count  is_open_mean  \\\n",
       "0                  Paradise, Las Vegas, NV               5454      0.819215   \n",
       "1             Spring Valley, Las Vegas, NV               4030      0.822333   \n",
       "..                                     ...                ...           ...   \n",
       "440  Arrow Head Acres, North Las Vegas, NV                 10      1.000000   \n",
       "441            McClellan Park, Madison, WI                 10      0.800000   \n",
       "\n",
       "     Nhood_area_first  review_count_mean  stars_mean  \\\n",
       "0        1.132623e+08          50.751008    3.674276   \n",
       "1        9.008128e+07          48.276923    3.855707   \n",
       "..                ...                ...         ...   \n",
       "440      8.902987e+05          10.600000    3.650000   \n",
       "441      2.381347e+06          18.200000    3.700000   \n",
       "\n",
       "     RestaurantsPriceRange2_mean  Alcohol_ratio  biz_density_  \n",
       "0                       1.734807       0.126146    481.536897  \n",
       "1                       1.705340       0.098015    447.373756  \n",
       "..                           ...            ...           ...  \n",
       "440                     1.500000       0.000000    112.321848  \n",
       "441                     1.857143       0.300000     41.993045  \n",
       "\n",
       "[442 rows x 9 columns]"
      ]
     },
     "metadata": {},
     "output_type": "display_data"
    },
    {
     "data": {
      "text/html": [
       "<div>\n",
       "<style>\n",
       "    .dataframe thead tr:only-child th {\n",
       "        text-align: right;\n",
       "    }\n",
       "\n",
       "    .dataframe thead th {\n",
       "        text-align: left;\n",
       "    }\n",
       "\n",
       "    .dataframe tbody tr th {\n",
       "        vertical-align: top;\n",
       "    }\n",
       "</style>\n",
       "<table border=\"1\" class=\"dataframe\">\n",
       "  <thead>\n",
       "    <tr style=\"text-align: right;\">\n",
       "      <th></th>\n",
       "      <th>CT_ID</th>\n",
       "      <th>business_id_count</th>\n",
       "      <th>is_open_mean</th>\n",
       "      <th>Nhood_area_first</th>\n",
       "      <th>review_count_mean</th>\n",
       "      <th>stars_mean</th>\n",
       "      <th>RestaurantsPriceRange2_mean</th>\n",
       "      <th>Alcohol_ratio</th>\n",
       "      <th>biz_density_</th>\n",
       "    </tr>\n",
       "  </thead>\n",
       "  <tbody>\n",
       "    <tr>\n",
       "      <th>0</th>\n",
       "      <td>32003006700</td>\n",
       "      <td>1767</td>\n",
       "      <td>0.802490</td>\n",
       "      <td>8.657817e+06</td>\n",
       "      <td>203.042445</td>\n",
       "      <td>3.594793</td>\n",
       "      <td>2.371550</td>\n",
       "      <td>0.353707</td>\n",
       "      <td>2040.930281</td>\n",
       "    </tr>\n",
       "    <tr>\n",
       "      <th>1</th>\n",
       "      <td>04013216816</td>\n",
       "      <td>1142</td>\n",
       "      <td>0.823117</td>\n",
       "      <td>2.707229e+08</td>\n",
       "      <td>31.990368</td>\n",
       "      <td>3.885727</td>\n",
       "      <td>2.009960</td>\n",
       "      <td>0.075306</td>\n",
       "      <td>42.183359</td>\n",
       "    </tr>\n",
       "    <tr>\n",
       "      <th>...</th>\n",
       "      <td>...</td>\n",
       "      <td>...</td>\n",
       "      <td>...</td>\n",
       "      <td>...</td>\n",
       "      <td>...</td>\n",
       "      <td>...</td>\n",
       "      <td>...</td>\n",
       "      <td>...</td>\n",
       "      <td>...</td>\n",
       "    </tr>\n",
       "    <tr>\n",
       "      <th>1452</th>\n",
       "      <td>04013522800</td>\n",
       "      <td>20</td>\n",
       "      <td>0.950000</td>\n",
       "      <td>NaN</td>\n",
       "      <td>28.500000</td>\n",
       "      <td>3.675000</td>\n",
       "      <td>1.833333</td>\n",
       "      <td>0.050000</td>\n",
       "      <td>NaN</td>\n",
       "    </tr>\n",
       "    <tr>\n",
       "      <th>1453</th>\n",
       "      <td>39153530104</td>\n",
       "      <td>20</td>\n",
       "      <td>0.850000</td>\n",
       "      <td>NaN</td>\n",
       "      <td>13.900000</td>\n",
       "      <td>3.650000</td>\n",
       "      <td>1.538462</td>\n",
       "      <td>0.250000</td>\n",
       "      <td>NaN</td>\n",
       "    </tr>\n",
       "  </tbody>\n",
       "</table>\n",
       "<p>1454 rows × 9 columns</p>\n",
       "</div>"
      ],
      "text/plain": [
       "            CT_ID  business_id_count  is_open_mean  Nhood_area_first  \\\n",
       "0     32003006700               1767      0.802490      8.657817e+06   \n",
       "1     04013216816               1142      0.823117      2.707229e+08   \n",
       "...           ...                ...           ...               ...   \n",
       "1452  04013522800                 20      0.950000               NaN   \n",
       "1453  39153530104                 20      0.850000               NaN   \n",
       "\n",
       "      review_count_mean  stars_mean  RestaurantsPriceRange2_mean  \\\n",
       "0            203.042445    3.594793                     2.371550   \n",
       "1             31.990368    3.885727                     2.009960   \n",
       "...                 ...         ...                          ...   \n",
       "1452          28.500000    3.675000                     1.833333   \n",
       "1453          13.900000    3.650000                     1.538462   \n",
       "\n",
       "      Alcohol_ratio  biz_density_  \n",
       "0          0.353707   2040.930281  \n",
       "1          0.075306     42.183359  \n",
       "...             ...           ...  \n",
       "1452       0.050000           NaN  \n",
       "1453       0.250000           NaN  \n",
       "\n",
       "[1454 rows x 9 columns]"
      ]
     },
     "metadata": {},
     "output_type": "display_data"
    }
   ],
   "source": [
    "notnull_ratio = lambda x: x.notnull().mean()\n",
    "isval_ratio = lambda x: lambda y: (x == y).mean()\n",
    "\n",
    "def basic_agg(nbh, by='Nhood'):\n",
    "    \"\"\"Calculate basic aggregates stats of the neighborhoods\"\"\"\n",
    "    stats = nbh.groupby(by).agg({\n",
    "        'business_id': ['count'],\n",
    "        'is_open': ['mean'],\n",
    "        'Nhood_area': ['first'],\n",
    "        'review_count': ['mean'],\n",
    "        'stars': ['mean'],\n",
    "        'RestaurantsPriceRange2': ['mean'],  # by default will skip NA\n",
    "        'Alcohol': [('ratio', notnull_ratio)]\n",
    "    }).sort_values(('business_id', 'count'), ascending=False)\n",
    "    # how many businesses per square kilometer\n",
    "    stats['biz_density'] = (\n",
    "        stats[('business_id','count')] /\n",
    "        (stats[('Nhood_area', 'first')] / 10e6)\n",
    "    )\n",
    "    stats.columns = stats.columns.map(lambda x: '_'.join(x))\n",
    "    stats = pd.DataFrame(stats.to_records())\n",
    "    return stats\n",
    "    \n",
    "nbh_stats_min_10 = basic_agg(biz[biz['Nhood_biz_count'] >= 10])\n",
    "ct_stats_min_20 = basic_agg(biz[biz['CT_BIZ_COUNT'] >= 20], by='CT_ID')\n",
    "display(nbh_stats_min_10)\n",
    "display(ct_stats_min_20)"
   ]
  },
  {
   "cell_type": "markdown",
   "metadata": {},
   "source": [
    "## Export the feature matrix as a CSV file\n",
    "\n",
    "These exported feature matrices will later be used in clustering."
   ]
  },
  {
   "cell_type": "code",
   "execution_count": 97,
   "metadata": {},
   "outputs": [],
   "source": [
    "nbh_stats_min_10.to_csv('../data/step2/nbh_stats_min_5.csv', index=False)"
   ]
  },
  {
   "cell_type": "code",
   "execution_count": 98,
   "metadata": {
    "collapsed": true
   },
   "outputs": [],
   "source": [
    "ct_stats_min_20.to_csv('../data/step2/ct_stats_min_20.csv', index=False)"
   ]
  },
  {
   "cell_type": "code",
   "execution_count": null,
   "metadata": {
    "collapsed": true
   },
   "outputs": [],
   "source": []
  }
 ],
 "metadata": {
  "kernelspec": {
   "display_name": "Python 3",
   "language": "python",
   "name": "python3"
  },
  "language_info": {
   "codemirror_mode": {
    "name": "ipython",
    "version": 3
   },
   "file_extension": ".py",
   "mimetype": "text/x-python",
   "name": "python",
   "nbconvert_exporter": "python",
   "pygments_lexer": "ipython3",
   "version": "3.6.3"
  },
  "toc": {
   "nav_menu": {},
   "number_sections": true,
   "sideBar": true,
   "skip_h1_title": false,
   "toc_cell": false,
   "toc_position": {},
   "toc_section_display": "block",
   "toc_window_display": false
  }
 },
 "nbformat": 4,
 "nbformat_minor": 2
}
